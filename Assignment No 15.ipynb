{
 "cells": [
  {
   "cell_type": "markdown",
   "id": "b70c1cf8",
   "metadata": {},
   "source": [
    ">__1.How many seconds are in an hour? Use the interactive interpreter as a calculator and multiply the number of seconds in a minute (60) by the number of minutes in an hour (also 60).__"
   ]
  },
  {
   "cell_type": "code",
   "execution_count": 1,
   "id": "58d9d775",
   "metadata": {},
   "outputs": [
    {
     "data": {
      "text/plain": [
       "3600"
      ]
     },
     "execution_count": 1,
     "metadata": {},
     "output_type": "execute_result"
    }
   ],
   "source": [
    "60 * 60"
   ]
  },
  {
   "cell_type": "markdown",
   "id": "396cd44a",
   "metadata": {},
   "source": [
    ">__2. Assign the result from the previous task (seconds in an hour) to a variable called seconds_per_hour.__"
   ]
  },
  {
   "cell_type": "code",
   "execution_count": 2,
   "id": "4fd1252d",
   "metadata": {},
   "outputs": [],
   "source": [
    "seconds_per_hour = 3600"
   ]
  },
  {
   "cell_type": "markdown",
   "id": "f679ee90",
   "metadata": {},
   "source": [
    ">__3. How many seconds do you think there are in a day? Make use of the variables seconds per hour and minutes per hour.__"
   ]
  },
  {
   "cell_type": "code",
   "execution_count": 24,
   "id": "ccd31465",
   "metadata": {},
   "outputs": [
    {
     "name": "stdout",
     "output_type": "stream",
     "text": [
      "86400\n",
      "86400\n"
     ]
    }
   ],
   "source": [
    "print(seconds_per_hour * 24) #24 hours in a day\n",
    "\n",
    "minutes_per_hour = seconds_per_hour // 60\n",
    "print(minutes_per_hour * 60 * 24) #60 seconds in a minute and 24 hours in a day\n"
   ]
  },
  {
   "cell_type": "markdown",
   "id": "79d0d9d3",
   "metadata": {},
   "source": [
    ">__4. Calculate seconds per day again, but this time save the result in a variable called seconds_per_day__"
   ]
  },
  {
   "cell_type": "code",
   "execution_count": 27,
   "id": "242e7111",
   "metadata": {},
   "outputs": [
    {
     "name": "stdout",
     "output_type": "stream",
     "text": [
      "86400\n"
     ]
    }
   ],
   "source": [
    "seconds_per_day = 60 * 60 * 24 \n",
    "print(seconds_per_day)"
   ]
  },
  {
   "cell_type": "markdown",
   "id": "ef4f5a4b",
   "metadata": {},
   "source": [
    ">__5. Divide seconds_per_day by seconds_per_hour. Use floating-point (/) division.__"
   ]
  },
  {
   "cell_type": "code",
   "execution_count": 28,
   "id": "fe0fe573",
   "metadata": {},
   "outputs": [
    {
     "data": {
      "text/plain": [
       "24.0"
      ]
     },
     "execution_count": 28,
     "metadata": {},
     "output_type": "execute_result"
    }
   ],
   "source": [
    "seconds_per_day / seconds_per_hour "
   ]
  },
  {
   "cell_type": "markdown",
   "id": "7c4a1521",
   "metadata": {},
   "source": [
    ">__6. Divide seconds_per_day by seconds_per_hour, using integer (//) division. Did this number agree with the floating-point value from the previous question, aside from the final .0?__"
   ]
  },
  {
   "cell_type": "code",
   "execution_count": 29,
   "id": "6db99af0",
   "metadata": {},
   "outputs": [
    {
     "data": {
      "text/plain": [
       "24"
      ]
     },
     "execution_count": 29,
     "metadata": {},
     "output_type": "execute_result"
    }
   ],
   "source": [
    "seconds_per_day // seconds_per_hour "
   ]
  },
  {
   "cell_type": "markdown",
   "id": "24e57931",
   "metadata": {},
   "source": [
    "Ans. Yes, this number agreed with the floating-point value from the previous question, aside from the final .0"
   ]
  },
  {
   "cell_type": "markdown",
   "id": "499e4561",
   "metadata": {},
   "source": [
    ">__7. Write a generator, genPrimes, that returns the sequence of prime numbers on successive calls to its next() method: 2, 3, 5, 7, 11, ...__"
   ]
  },
  {
   "cell_type": "code",
   "execution_count": 36,
   "id": "1f695306",
   "metadata": {},
   "outputs": [],
   "source": [
    "def genPrimes():\n",
    "    primes = []   # primes generated so far\n",
    "    last = 1      # last number tried\n",
    "    while True:\n",
    "        last += 1\n",
    "        for p in primes:\n",
    "            if last % p == 0:\n",
    "                break\n",
    "        else:\n",
    "            primes.append(last)\n",
    "            yield last\n",
    "\n",
    "p = genPrimes()"
   ]
  },
  {
   "cell_type": "code",
   "execution_count": 37,
   "id": "41a94571",
   "metadata": {},
   "outputs": [
    {
     "data": {
      "text/plain": [
       "2"
      ]
     },
     "execution_count": 37,
     "metadata": {},
     "output_type": "execute_result"
    }
   ],
   "source": [
    "next(p)"
   ]
  },
  {
   "cell_type": "code",
   "execution_count": 38,
   "id": "a2325002",
   "metadata": {},
   "outputs": [
    {
     "data": {
      "text/plain": [
       "3"
      ]
     },
     "execution_count": 38,
     "metadata": {},
     "output_type": "execute_result"
    }
   ],
   "source": [
    "next(p)"
   ]
  },
  {
   "cell_type": "code",
   "execution_count": 39,
   "id": "b835d0ff",
   "metadata": {},
   "outputs": [
    {
     "data": {
      "text/plain": [
       "5"
      ]
     },
     "execution_count": 39,
     "metadata": {},
     "output_type": "execute_result"
    }
   ],
   "source": [
    "next(p)"
   ]
  },
  {
   "cell_type": "code",
   "execution_count": 40,
   "id": "bbc85a95",
   "metadata": {},
   "outputs": [
    {
     "data": {
      "text/plain": [
       "7"
      ]
     },
     "execution_count": 40,
     "metadata": {},
     "output_type": "execute_result"
    }
   ],
   "source": [
    "next(p)"
   ]
  },
  {
   "cell_type": "code",
   "execution_count": 41,
   "id": "14152260",
   "metadata": {},
   "outputs": [
    {
     "data": {
      "text/plain": [
       "11"
      ]
     },
     "execution_count": 41,
     "metadata": {},
     "output_type": "execute_result"
    }
   ],
   "source": [
    "next(p)"
   ]
  }
 ],
 "metadata": {
  "kernelspec": {
   "display_name": "Python 3",
   "language": "python",
   "name": "python3"
  },
  "language_info": {
   "codemirror_mode": {
    "name": "ipython",
    "version": 3
   },
   "file_extension": ".py",
   "mimetype": "text/x-python",
   "name": "python",
   "nbconvert_exporter": "python",
   "pygments_lexer": "ipython3",
   "version": "3.8.8"
  }
 },
 "nbformat": 4,
 "nbformat_minor": 5
}
